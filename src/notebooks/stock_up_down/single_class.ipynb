{
 "cells": [
  {
   "cell_type": "code",
   "execution_count": null,
   "id": "d154e01b-69f9-4b2e-adf2-34a7b8833a66",
   "metadata": {},
   "outputs": [],
   "source": [
    "import torch\n",
    "device = \"cuda\" if torch.cuda.is_available() else \"cpu\"\n",
    "print(f\"Device: {device}\")"
   ]
  },
  {
   "cell_type": "code",
   "execution_count": null,
   "id": "65fd91ed",
   "metadata": {},
   "outputs": [],
   "source": [
    "###################\n",
    "##### SET PARAMETERS\n",
    "################### \n",
    "TICKER=\"TSLA\"\n",
    "DATA_INTERVAL_MINUTES = 15   # (Set to 5 or 15)\n",
    "DATA_AFTER_HOURS = False\n",
    "###################\n",
    "##### SET PARAMETERS\n",
    "###################"
   ]
  },
  {
   "cell_type": "code",
   "execution_count": 656,
   "id": "62afeeba-6a9c-41cf-bbf7-da672fc6ff5a",
   "metadata": {},
   "outputs": [
    {
     "name": "stdout",
     "output_type": "stream",
     "text": [
      "Retrieving TSLA from 2019-01-01 00:00:00 to 2020-01-01 00:00:00 on 15m - https://api.tiingo.com/iex/TSLA/prices?token=REMOVED_SECRET&startDate=2019-01-01&endDate=2020-01-01&resampleFreq=15min&afterHours=false&format=csv\n",
      "Retrieving TSLA from 2020-01-01 00:00:00 to 2021-01-01 00:00:00 on 15m - https://api.tiingo.com/iex/TSLA/prices?token=REMOVED_SECRET&startDate=2020-01-01&endDate=2021-01-01&resampleFreq=15min&afterHours=false&format=csv\n",
      "Retrieving TSLA from 2021-01-01 00:00:00 to 2022-01-01 00:00:00 on 15m - https://api.tiingo.com/iex/TSLA/prices?token=REMOVED_SECRET&startDate=2021-01-01&endDate=2022-01-01&resampleFreq=15min&afterHours=false&format=csv\n",
      "Retrieving TSLA from 2022-01-01 00:00:00 to 2023-01-01 00:00:00 on 15m - https://api.tiingo.com/iex/TSLA/prices?token=REMOVED_SECRET&startDate=2022-01-01&endDate=2023-01-01&resampleFreq=15min&afterHours=false&format=csv\n",
      "Retrieving TSLA from 2023-01-01 00:00:00 to 2024-01-01 00:00:00 on 15m - https://api.tiingo.com/iex/TSLA/prices?token=REMOVED_SECRET&startDate=2023-01-01&endDate=2024-01-01&resampleFreq=15min&afterHours=false&format=csv\n"
     ]
    }
   ],
   "source": [
    "import sys\n",
    "sys.path.append('..\\\\..')\n",
    "\n",
    "from datetime import datetime\n",
    "\n",
    "import settings\n",
    "import apis.tiingo_api as tiingo\n",
    "\n",
    "secret_key= settings.get_secret(\"tiingo-key\")\n",
    "\n",
    "### TRAINING DATA\n",
    "csv_data2019= tiingo.download_ticker(secret_key, TICKER, datetime(2019, 1, 1), datetime(2020,1,1), DATA_INTERVAL_MINUTES, DATA_AFTER_HOURS)\n",
    "csv_data2020= tiingo.download_ticker(secret_key, TICKER, datetime(2020, 1, 1), datetime(2021,1,1), DATA_INTERVAL_MINUTES, DATA_AFTER_HOURS)\n",
    "csv_data2021= tiingo.download_ticker(secret_key, TICKER, datetime(2021, 1, 1), datetime(2022,1,1), DATA_INTERVAL_MINUTES, DATA_AFTER_HOURS)\n",
    "csv_data2022= tiingo.download_ticker(secret_key, TICKER, datetime(2022, 1, 1), datetime(2023,1,1), DATA_INTERVAL_MINUTES, DATA_AFTER_HOURS)\n",
    "csv_data2023= tiingo.download_ticker(secret_key, TICKER, datetime(2023, 1, 1), datetime(2024,1,1), DATA_INTERVAL_MINUTES, DATA_AFTER_HOURS)\n",
    "# csv_data2024= tiingo.download_ticker(secret_key, TICKER, datetime(2024, 1, 1), datetime(2024,2,1), DATA_INTERVAL_MINUTES, DATA_AFTER_HOURS)\n",
    "\n",
    "### TEST PREDICTIONS ON RECENT DATA\n",
    "# # For first prediction need 2584 ticks = 2584 / 26 ~ 100 days -> 100 * 7 / 5 / 30 = 4.6 months\n",
    "# csv_data2023= tiingo.download_ticker(secret_key, TICKER, datetime(2023, 8, 1), datetime(2023,12,31), DATA_INTERVAL_MINUTES, DATA_AFTER_HOURS)\n",
    "# csv_data2024= tiingo.download_ticker(secret_key, TICKER, datetime(2024, 1, 1), datetime(2024,12,31), DATA_INTERVAL_MINUTES, DATA_AFTER_HOURS)\n"
   ]
  },
  {
   "cell_type": "code",
   "execution_count": 657,
   "id": "47a77e70-8b1d-4be0-9330-cfe1fe98ddaf",
   "metadata": {},
   "outputs": [
    {
     "name": "stdout",
     "output_type": "stream",
     "text": [
      "Concatenating from 2019\n"
     ]
    }
   ],
   "source": [
    "import io\n",
    "import pandas as pd\n",
    "\n",
    "# ### TRAINING DATA\n",
    "df2019 = pd.read_csv(io.StringIO(csv_data2019))\n",
    "df2020 = pd.read_csv(io.StringIO(csv_data2020))\n",
    "df2021 = pd.read_csv(io.StringIO(csv_data2021))\n",
    "df2022 = pd.read_csv(io.StringIO(csv_data2022))\n",
    "df2023 = pd.read_csv(io.StringIO(csv_data2023))\n",
    "# df2024 = pd.read_csv(io.StringIO(csv_data2024))\n",
    "\n",
    "if not df2019.empty:\n",
    "    print(\"Concatenating from 2019\")\n",
    "    df = pd.concat([df2019, df2020, df2021, df2022, df2023], axis=0, ignore_index=True)\n",
    "elif not df2020.empty:\n",
    "    print(\"Concatenating from 2020\")\n",
    "    df = pd.concat([df2020, df2021, df2022, df2023], axis=0, ignore_index=True)\n",
    "else:\n",
    "    print(\"Concatenating from 2021\")\n",
    "    df = pd.concat([df2021, df2022, df2023], axis=0, ignore_index=True)\n",
    "\n",
    "# if not df2024.empty:\n",
    "#     print(\"Concatenating from 2024\")\n",
    "#     df = pd.concat([df, df2024], axis=0, ignore_index=True)\n",
    "\n",
    "### TEST PREDICTIONS ON RECENT DATA\n",
    "# df2023 = pd.read_csv(io.StringIO(csv_data2023))\n",
    "# df2024 = pd.read_csv(io.StringIO(csv_data2024))\n",
    "# df = pd.concat([df2023, df2024], axis=0, ignore_index=True)\n"
   ]
  },
  {
   "cell_type": "code",
   "execution_count": 658,
   "id": "d66b7cc7-98a6-43a0-82b1-0b2abdc83d37",
   "metadata": {},
   "outputs": [
    {
     "name": "stdout",
     "output_type": "stream",
     "text": [
      "The DataFrame is in ascending order.\n"
     ]
    }
   ],
   "source": [
    "# Checks if ordered ascending\n",
    "\n",
    "# Sort the DataFrame to check if it is in ascending order\n",
    "df_sorted = df.sort_values(\"date\")\n",
    "\n",
    "# Check if the sorted DataFrame is equal to the original DataFrame\n",
    "is_ascending = df_sorted.equals(df)\n",
    "\n",
    "if is_ascending:\n",
    "    print(\"The DataFrame is in ascending order.\")\n",
    "else:\n",
    "    print(\"The DataFrame is not in ascending order.\")\n"
   ]
  },
  {
   "cell_type": "code",
   "execution_count": 659,
   "id": "1de91e28-bd1d-41bf-899b-4e183ae5be45",
   "metadata": {},
   "outputs": [
    {
     "name": "stdout",
     "output_type": "stream",
     "text": [
      "df First:                         date    close    high      low     open   volume\n",
      "0  2019-01-02 09:30:00-05:00  301.680  310.58  298.910  306.960  82825.0\n",
      "1  2019-01-02 09:45:00-05:00  303.945  305.24  300.770  301.770  42264.0\n",
      "2  2019-01-02 10:00:00-05:00  307.860  309.87  302.600  303.925  35422.0\n",
      "3  2019-01-02 10:15:00-05:00  304.820  308.30  304.570  308.115  11805.0\n",
      "4  2019-01-02 10:30:00-05:00  305.390  305.78  303.030  304.240   4504.0\n",
      "5  2019-01-02 10:45:00-05:00  307.200  307.85  304.960  305.730   4614.0\n",
      "6  2019-01-02 11:00:00-05:00  307.700  308.28  306.825  307.380  10676.0\n",
      "7  2019-01-02 11:15:00-05:00  306.660  307.64  305.690  307.640   6901.0\n",
      "8  2019-01-02 11:30:00-05:00  312.105  312.62  307.095  307.800  17656.0\n",
      "9  2019-01-02 11:45:00-05:00  308.140  312.29  307.755  312.015   4179.0\n",
      "close First: [301.68, 303.945, 307.86, 304.82, 305.39, 307.2, 307.7, 306.66, 312.105, 308.14]\n",
      "df Last:                             date    close     high      low     open   volume\n",
      "33790  2023-12-29 13:30:00-05:00  250.600  250.860  249.760  249.790   6340.0\n",
      "33791  2023-12-29 13:45:00-05:00  250.715  251.030  250.355  250.590   7302.0\n",
      "33792  2023-12-29 14:00:00-05:00  249.965  251.060  249.665  250.770   8853.0\n",
      "33793  2023-12-29 14:15:00-05:00  249.415  250.255  249.405  250.030   8875.0\n",
      "33794  2023-12-29 14:30:00-05:00  250.090  250.235  249.415  249.415   9759.0\n",
      "33795  2023-12-29 14:45:00-05:00  250.605  250.675  250.015  250.070   7822.0\n",
      "33796  2023-12-29 15:00:00-05:00  250.400  250.710  249.835  250.590  11410.0\n",
      "33797  2023-12-29 15:15:00-05:00  250.400  250.445  249.845  250.330  10304.0\n",
      "33798  2023-12-29 15:30:00-05:00  249.190  250.405  249.015  250.405  26157.0\n",
      "33799  2023-12-29 15:45:00-05:00  248.500  249.300  248.170  249.150  37023.0\n",
      "close Last: [250.6, 250.715, 249.965, 249.415, 250.09, 250.605, 250.4, 250.4, 249.19, 248.5]\n"
     ]
    }
   ],
   "source": [
    "close_list = df['close'].astype(float).tolist()\n",
    "\n",
    "print(f\"df First: {df[:10]}\")\n",
    "print(f\"close First: {close_list[:10]}\")\n",
    "print(f\"df Last: {df[-10:]}\")\n",
    "print(f\"close Last: {close_list[-10:]}\")"
   ]
  },
  {
   "cell_type": "code",
   "execution_count": 660,
   "id": "9f33b91c-c07b-42a6-9518-d2396a20d112",
   "metadata": {},
   "outputs": [],
   "source": [
    "###################\n",
    "##### SET PARAMETERS\n",
    "###################\n",
    "DAYS_PREDICT = 4\n",
    "# ISSUE: If stock steadily goes down less than 'DOWN_PCTS_PREDICT' then won't sell but after few periods will be very down \n",
    "#  example: DOWN_PCTS_PREDICT=5% then down 4% and down 3% and down 1%... and never sell\n",
    "# If DOWN_PCTS_PREDICT is too low (ex. 1) is very unlikey it does not go down 1% in 52 periods even if at the end of the day goes up 7%\n",
    "# Evem \"DOWN_PCTS_PREDICT\" is written as positive for calculations is down = negative\n",
    "DOWN_PCTS_PREDICT= [4]\n",
    "UP_PCTS_PREDICT= [7]\n",
    "###################\n",
    "##### SET PARAMETERS\n",
    "###################"
   ]
  },
  {
   "cell_type": "code",
   "execution_count": 661,
   "id": "5e990fa6-00fc-496d-be86-955866c3ffb0",
   "metadata": {},
   "outputs": [
    {
     "name": "stdout",
     "output_type": "stream",
     "text": [
      "classes: [1, nan]\n",
      "prices vs classes (window=104): [(195.3, 0), (195.59, 0), (195.81, 0), (196.95, 0), (194.09, 1), (192.68, 1), (191.74, 1), (190.21, 1), (189.365, 1), (190.06, 1), (190.87, 1), (190.39, 1), (191.47, 1), (191.0, 1), (191.23, 1), (190.45, 1), (190.27, 1), (189.47, 1), (189.845, 1), (190.23, 1), (190.74, 1), (190.9, 1), (191.01, 1), (190.66, 1), (190.19, 1), (191.03, 1), (190.865, 1), (190.68, 1), (190.68, 1), (190.68, 1), (190.68, 1), (190.68, 1), (190.68, 1), (190.68, 1), (190.68, 1), (190.68, 1), (190.68, 1), (190.68, 1), (190.68, 1), (190.68, 1), (190.68, 1), (190.68, 1), (190.68, 1), (190.68, 1), (190.68, 1), (190.68, 1), (190.68, 1), (190.68, 1), (190.68, 1), (190.68, 1), (190.68, 1), (190.68, 1), (190.68, 1), (190.68, 1), (194.205, 0), (191.66, 0), (188.57, 1), (188.98, 0), (189.65, 0), (190.22, 0), (189.295, 0), (190.74, 0), (191.6, 0), (190.555, 0), (190.365, 0), (190.24, 0), (189.2, 0), (190.0, 0), (191.02, 0), (190.5, 0), (191.27, 0), (191.05, 0), (190.355, 0), (189.79, 0), (190.055, 0), (189.41, 0), (188.92, 0), (188.215, 0), (188.135, 0), (188.81, 0), (188.89, 0), (189.68, 0), (192.055, 0), (191.41, 0), (189.99, 0), (189.5, 0), (188.1, 0), (187.33, 0), (186.84, 0), (186.53, 0), (187.61, 0), (187.1, 0), (188.37, 0), (187.73, 0), (189.09, 0), (188.895, 0), (188.69, 0), (188.7, 0), (187.63, 0), (187.79, 0), (187.98, 0), (188.3, 0), (188.9, 0), (189.98, 0), (190.85, 0), (189.93, 0), (190.8, 0), (190.015, 0), (187.99, 0), (188.535, 0), (187.57, 0), (187.97, 0), (187.88, 0), (188.225, 0), (188.475, 0), (189.22, 0), (188.47, 0), (189.145, 0), (189.88, 0), (189.735, 0), (190.055, 0), (189.765, 0), (188.78, 0), (188.81, 0), (188.86, 0), (187.75, 0), (187.56, 0), (188.15, 0), (187.71, 0), (187.82, 0), (188.15, 0), (188.23, 0), (185.01, 0), (186.38, 0), (185.58, 0), (187.155, 0), (187.665, 0), (189.53, 0), (189.68, 0), (188.13, 0), (187.54, 0), (187.9, 0), (187.1, 0), (186.9, 0), (186.37, 0), (186.315, 0), (187.04, 0), (186.67, 0), (186.29, 0), (186.36, 0), (185.83, 0), (185.56, 0), (185.6, 0), (185.38, 0), (185.28, 0), (185.36, 0), (184.68, 0), (185.345, 0), (183.82, 2), (181.41, 2), (181.32, 2), (182.17, 2), (182.76, 2), (183.825, 2), (182.74, 2), (182.31, 2), (182.11, 2), (181.76, 2), (180.705, 2), (179.85, 2), (179.89, 2), (178.6, 2), (179.02, 2), (179.15, 2), (179.28, 2), (179.555, 2), (179.52, 2), (178.965, 2), (177.575, 2), (177.23, 2), (178.2, 2), (177.88, 2), (178.56, 2), (178.92, 2), (184.435, 2), (184.88, 2), (185.57, 2), (186.47, 2), (185.45, 2), (186.62, 2), (185.945, 2), (187.57, 2), (189.21, 2), (189.0, 2), (189.755, 2), (190.68, 2), (190.9, 2), (190.31, 2), (190.47, 2), (190.65, 2), (190.695, 2), (192.52, 2), (191.86, 2), (191.45, 2), (191.6, 2), (192.28, 2), (193.2, 2), (192.98, 2), (192.525, 2), (193.91, 2), (194.88, 2), (194.93, 2), (196.39, 2), (194.66, 2), (193.22, 2), (192.995, 2), (194.17, 2), (195.16, 2), (194.75, 2), (195.82, 2), (195.015, 2), (195.79, 2), (195.945, 2), (194.45, 2), (195.82, 2), (195.55, 2), (196.29, 2), (195.15, 2), (195.0, 2), (195.26, 2), (195.52, 2), (195.97, 2), (196.71, 2), (196.905, 2), (197.45, 2), (196.67, 2), (202.41, 2), (202.75, 2), (203.8, 2), (205.59, 2), (208.39, 1), (207.5, 1), (209.77, 1), (210.25, 1), (209.19, 1), (208.07, 1), (208.27, 1), (207.47, 1), (206.47, 1), (206.005, 2), (205.3, 2), (204.32, 2), (204.52, 2), (204.97, 2), (205.92, 2), (205.69, 2), (206.26, 2), (204.65, 2), (205.62, 2), (205.805, 2), (206.25, 2), (205.95, 2), (207.81, 1), (209.13, 1), (208.26, 1), (209.8, 1), (209.29, 1), (210.74, 1), (209.26, 1), (207.22, 1), (206.92, 1), (206.94, 1), (206.76, 1), (208.11, 1), (207.23, 1), (207.13, 1), (207.34, 1), (206.12, 2), (206.795, 1), (206.65, 1), (204.99, 2), (206.02, 2), (204.69, 2), (204.29, 2), (204.03, 2), (204.25, 2), (204.24, 2), (204.39, 2), (213.45, 1), (214.1, 1), (213.59, 1), (213.22, 1), (214.73, 1), (215.535, 1), (216.02, 1), (215.95, 1), (215.88, 1), (216.01, 1), (215.48, 1), (213.315, 1), (214.01, 1), (213.29, 1), (213.3, 1), (213.435, 1), (213.27, 1), (212.325, 1), (210.76, 1), (211.5, 1), (212.5, 1), (212.9, 1), (212.92, 1), (212.97, 1), (212.47, 1), (212.88, 1), (217.56, 1), (218.64, 0), (217.18, 1), (216.87, 1), (216.645, 1), (217.1, 1), (216.795, 1), (216.53, 1), (214.74, 1), (215.4, 1), (214.01, 1), (214.42, 1), (215.16, 1), (214.11, 1), (214.29, 1), (214.58, 1), (215.66, 1), (216.19, 1), (216.18, 1), (215.99, 1), (215.75, 1), (216.5, 1), (216.87, 1), (216.93, 1), (216.905, 1), (217.05, 1), (220.7, 0), (216.05, 2), (217.09, 2), (212.71, 2), (211.41, 2), (212.4, 2), (213.0, 2), (211.81, 2), (211.51, 2), (211.79, 2)]\n"
     ]
    }
   ],
   "source": [
    "\n",
    "# If quotes every 15min there 26 per day if quotes every 5min there are 78 per day\n",
    "TICKS_IN_DAY = 26 if DATA_INTERVAL_MINUTES == 15 else 78\n",
    "# How many data ticks are inspecting to determine the if up or down by percentage \n",
    "TICKS_PREDICT= TICKS_IN_DAY * DAYS_PREDICT\n",
    "\n",
    "import classificators.series_classificator as classificator\n",
    "\n",
    "classes_calc = classificator.SeriesClassificator(classificator.find_first_down_up, TICKS_PREDICT, DOWN_PCTS_PREDICT, UP_PCTS_PREDICT)\n",
    "\n",
    "classes= classes_calc.classify(close_list)\n",
    "print(f\"classes: {classes[-TICKS_PREDICT-1:-TICKS_PREDICT+1]}\")\n",
    "price_classes = [(pc[0], pc[1]) for pc in zip(close_list[2650:3000], classes[2650:3000])]\n",
    "print(f\"prices vs classes (window={TICKS_PREDICT}): {price_classes}\")\n"
   ]
  },
  {
   "cell_type": "code",
   "execution_count": 662,
   "id": "15a25bdb-a1ac-49b9-b508-55aa08e54c34",
   "metadata": {},
   "outputs": [
    {
     "data": {
      "image/png": "[encoded data removed]",
      "text/plain": [
       "<Figure size 640x480 with 1 Axes>"
      ]
     },
     "metadata": {},
     "output_type": "display_data"
    }
   ],
   "source": [
    "import matplotlib.pyplot as plt\n",
    "\n",
    "# Create a histogram\n",
    "hist_values, bin_edges, _ = plt.hist(classes, bins=21, edgecolor='black')\n",
    "\n",
    "# Add labels and a title\n",
    "plt.xlabel('Value')\n",
    "plt.ylabel('Frequency')\n",
    "plt.title('Histogram of Data')\n",
    "\n",
    "# Display frequency on top of each bar\n",
    "for value, edge in zip(hist_values, bin_edges[:-1]):\n",
    "    plt.text(edge, value, str(int(value)), color='black')\n",
    "    \n",
    "# Show the histogram\n",
    "plt.show()\n"
   ]
  },
  {
   "cell_type": "code",
   "execution_count": 663,
   "id": "1c8ce196",
   "metadata": {},
   "outputs": [
    {
     "data": {
      "image/png": "[encoded data removed]",
      "text/plain": [
       "<Figure size 2000x500 with 1 Axes>"
      ]
     },
     "metadata": {},
     "output_type": "display_data"
    }
   ],
   "source": [
    "import matplotlib.pyplot as plt\n",
    "\n",
    "# Generating x-axis values\n",
    "x = range(len(classes[-500:]))\n",
    "\n",
    "plt.figure(figsize=(20,5))\n",
    "plt.plot(x, classes[-500:], linestyle='-')\n",
    "\n",
    "# Adding labels and title\n",
    "plt.xlabel('Index')\n",
    "plt.ylabel('Class')\n",
    "plt.title('Plot of Classes')\n",
    "\n",
    "# Showing the plot\n",
    "plt.show()"
   ]
  },
  {
   "cell_type": "code",
   "execution_count": 664,
   "id": "3f33b173",
   "metadata": {},
   "outputs": [
    {
     "name": "stdout",
     "output_type": "stream",
     "text": [
      "Total: 33800\n",
      " 27.30%   9228 times   7% change (2)\n",
      " 42.86%  14488 times  -4% change (0)\n",
      " 29.53%   9980 times   0% change (1)\n",
      "  0.31%    104 times   0% change (nan)\n"
     ]
    }
   ],
   "source": [
    "import classificators.list_utils as lu\n",
    "\n",
    "\n",
    "lu.display_frequency_numbers(classes, DOWN_PCTS_PREDICT, UP_PCTS_PREDICT)"
   ]
  },
  {
   "cell_type": "code",
   "execution_count": 665,
   "id": "6e25c538",
   "metadata": {},
   "outputs": [],
   "source": [
    "###################\n",
    "##### SET PARAMETERS\n",
    "###################\n",
    "signal_avg= [\n",
    "    2, \n",
    "    3, \n",
    "    5, \n",
    "    8, \n",
    "    13, \n",
    "    21, \n",
    "    34, \n",
    "    55, \n",
    "    89, \n",
    "    144, \n",
    "    233, \n",
    "    377, \n",
    "    610, \n",
    "    987, \n",
    "    1597, \n",
    "    2584]\n",
    "###################\n",
    "##### SET PARAMETERS\n",
    "###################"
   ]
  },
  {
   "cell_type": "code",
   "execution_count": 666,
   "id": "1347910b-5c73-4c91-847e-906b66ad4e86",
   "metadata": {},
   "outputs": [],
   "source": [
    "\n",
    "import classificators.proportions_calc as proportions\n",
    "\n",
    "signals_calculator = proportions.ProportionsCalc(signal_avg)\n",
    "\n",
    "proportions_avg = signals_calculator.calculate(close_list)\n"
   ]
  },
  {
   "cell_type": "code",
   "execution_count": 667,
   "id": "78ac18bb-6cb7-4307-ab28-e8b5d5f2a74e",
   "metadata": {},
   "outputs": [
    {
     "name": "stdout",
     "output_type": "stream",
     "text": [
      "Prices length: 33800\n",
      "Proportions length: 33800\n",
      "Last 10 close: [250.6, 250.715, 249.965, 249.415, 250.09, 250.605, 250.4, 250.4, 249.19, 248.5]\n",
      "Last 10 proportions(avg=2): [0.001486432561780908, 0.0002293440758721968, -0.0015002100294749534, -0.001102580037358268, 0.0013495141748262583, 0.0010275134174588952, -0.00040934504799400464, -7.071375788794607e-14, -0.002427866286840148, -0.0013883299799505255]\n",
      "Proportions avgs: Length: 16 Last: 2584\n",
      "Classes last non-nan: [1, nan] len: 33800\n",
      "Proportions first non-nan(avg=2584): [nan, -0.3989563404324635] len: 33800\n",
      "Proportions (avg=2) Min: -1.9502283711002766 Max: 0.07537671689558442\n",
      "Proportions (avg=2584) Min: -2.487705376731546 Max: 0.6134148294687672\n"
     ]
    }
   ],
   "source": [
    "print(f\"Prices length: {len(close_list)}\")\n",
    "print(f\"Proportions length: {len(proportions_avg[-1])}\")\n",
    "\n",
    "print(f\"Last 10 close: {close_list[-10:]}\")\n",
    "print(f\"Last 10 proportions(avg={signal_avg[0]}): {proportions_avg[0][-10:]}\")\n",
    "\n",
    "print(f\"Proportions avgs: Length: {len(signal_avg)} Last: {signal_avg[-1]}\")\n",
    "# At the end of the data, when less ticks than necessary no possible to predict so \"nan\" \n",
    "print(f\"Classes last non-nan: {classes[-TICKS_PREDICT-1:-TICKS_PREDICT+1]} len: {len(classes)}\")\n",
    "print(f\"Proportions first non-nan(avg={signal_avg[-1]}): {proportions_avg[-1][signal_avg[-1]-2:signal_avg[-1]]} len: {len(proportions_avg[-1])}\")\n",
    "print(f\"Proportions (avg={signal_avg[0]}) Min: {min(proportions_avg[0][signal_avg[0]-1:-TICKS_PREDICT-1])} Max: {max(proportions_avg[0][signal_avg[0]-1:-TICKS_PREDICT])}\")\n",
    "print(f\"Proportions (avg={signal_avg[-1]}) Min: {min(proportions_avg[-1][signal_avg[-1]-1:-TICKS_PREDICT-1])} Max: {max(proportions_avg[-1][signal_avg[-1]-1:-TICKS_PREDICT])}\")"
   ]
  },
  {
   "cell_type": "code",
   "execution_count": 668,
   "id": "b7bb2e59-3b6b-4691-8d9e-a5b0754c6f3a",
   "metadata": {},
   "outputs": [
    {
     "name": "stdout",
     "output_type": "stream",
     "text": [
      "[-0.001823468532850179, 0.004662630602477096]\n",
      "[-0.0008049545775629514, 0.005012531328320961]\n",
      "[0.000980730373074247, 0.007772678449372463]\n",
      "[0.0061388053816968284, 0.012471316277707777]\n",
      "[0.003065019353030941, 0.011862197952425409]\n",
      "[9.739246346764442e-05, 0.009537991546585953]\n",
      "[0.001919135403408614, 0.01055230704721967]\n",
      "[-0.020603402314505005, -0.009848558823267527]\n",
      "[-0.05768013604304566, -0.04632760582325515]\n",
      "[-0.0883696042032875, -0.07744249015395718]\n",
      "[-0.11992377854999434, -0.10859697596926905]\n",
      "[-0.1566280904615039, -0.14540346871173945]\n",
      "[-0.197081763618046, -0.1853820067520304]\n",
      "[-0.2579944332754731, -0.24590435350998985]\n",
      "[-0.309100243307088, -0.2966180668922108]\n",
      "[-0.3989563404324635, -0.38572769513244454]\n",
      "First target: 0 and last target: 1\n",
      "Classes: 33800 after cut to targets: 31113\n",
      "Inputs len: 31113\n",
      "Distinct targets: [0, 1, 2]\n"
     ]
    }
   ],
   "source": [
    "# Cutting the \"nan\"s: \n",
    "#   At the beging first signal_avg[-1] are \"nan\" (need previous values for first avg.)\n",
    "#   At the end decided not predict if period to predict is shorter\n",
    "targets = classes[signal_avg[-1]-1:-TICKS_PREDICT]\n",
    "inputs = []\n",
    "for proportion in proportions_avg:\n",
    "    proportion_cut= proportion[signal_avg[-1]-1:-TICKS_PREDICT]\n",
    "    print(proportion_cut[:2])\n",
    "    inputs.append(proportion_cut)\n",
    "\n",
    "print(f\"First target: {targets[0]} and last target: {targets[-1]}\")\n",
    "print(f\"Classes: {len(classes)} after cut to targets: {len(targets)}\")\n",
    "print(f\"Inputs len: {len(inputs[len(signal_avg)-1])}\")\n",
    "print(f\"Distinct targets: {list(set(targets))}\")\n"
   ]
  },
  {
   "cell_type": "code",
   "execution_count": 669,
   "id": "57aeff26",
   "metadata": {},
   "outputs": [],
   "source": [
    "###################\n",
    "##### SET PARAMETERS\n",
    "###################\n",
    "# SET index_keep TO THE CLASS WANT TO SET AS 1, WANT THE NN TO LEARN - SET THE OTHER INDEX REMOVE \n",
    "### Learn when \"down\"\n",
    "# index_keep= 0\n",
    "# index_remove_a= 1\n",
    "# index_remove_b= 2\n",
    "\n",
    "### Learn when \"up\"\n",
    "index_keep= 2\n",
    "index_remove_a= 0\n",
    "index_remove_b= 1\n",
    "###################\n",
    "##### SET PARAMETERS\n",
    "###################"
   ]
  },
  {
   "cell_type": "code",
   "execution_count": 670,
   "id": "9e9db662-5306-4859-856f-e962f1996b55",
   "metadata": {},
   "outputs": [
    {
     "name": "stdout",
     "output_type": "stream",
     "text": [
      "After removing the nan at the begining and the end\n",
      "Total: 31113\n",
      " 42.36%  13178 times  -4% change (0)\n",
      " 28.83%   8971 times   0% change (1)\n",
      " 28.81%   8964 times   7% change (2)\n",
      "VALIDATE removing should be POSITIVE?\n",
      "Removing 0: 8696\n",
      "Removing 1: 4489\n"
     ]
    }
   ],
   "source": [
    "from collections import Counter\n",
    "\n",
    "print(\"After removing the nan at the begining and the end\")\n",
    "lu.display_frequency_numbers(targets, DOWN_PCTS_PREDICT, UP_PCTS_PREDICT)\n",
    "\n",
    "targets_frequency = Counter(targets)\n",
    "print(\"VALIDATE removing should be POSITIVE?\")\n",
    "count_remove_a= targets_frequency[index_remove_a] - targets_frequency[index_keep] + targets_frequency[index_keep] //2\n",
    "count_remove_b= targets_frequency[index_remove_b] - targets_frequency[index_keep] + targets_frequency[index_keep] //2\n",
    "print(f\"Removing {index_remove_a}: {count_remove_a}\")\n",
    "print(f\"Removing {index_remove_b}: {count_remove_b}\")\n"
   ]
  },
  {
   "cell_type": "code",
   "execution_count": 671,
   "id": "6bd505db-6ec0-43f7-a761-abcc231d549b",
   "metadata": {},
   "outputs": [
    {
     "name": "stdout",
     "output_type": "stream",
     "text": [
      "Total: 31113\n",
      " 42.36%  13178 times  -4% change (0)\n",
      " 28.83%   8971 times   0% change (1)\n",
      " 28.81%   8964 times   7% change (2)\n",
      "Targets len: 31113 Targets clean: 31113 Difference: 0\n",
      "targets_clean positions(Keep=2)(First:225,Last:-208)\n"
     ]
    }
   ],
   "source": [
    "###################\n",
    "##### SET PARAMETERS\n",
    "###################\n",
    "# DECISION SET: REMOVING?\n",
    "indexes_remove_a= []\n",
    "# 2024-03-01 Do not remove anything\n",
    "# if count_remove_a > 0:\n",
    "#     indexes_remove_a = get_indexes_value(targets, index_remove_a, count_remove_a)\n",
    "\n",
    "# DECISION SET: REMOVING?\n",
    "indexes_remove_b= []\n",
    "# 2024-03-01 Do not remove anything\n",
    "# if count_remove_b > 0:\n",
    "#     indexes_remove_b = get_indexes_value(targets, index_remove_b, count_remove_b)\n",
    "\n",
    "indexes_remove= indexes_remove_a + indexes_remove_b\n",
    "targets_clean= lu.remove_indexes(targets, indexes_remove)\n",
    "\n",
    "lu.display_frequency_numbers(targets_clean, DOWN_PCTS_PREDICT, UP_PCTS_PREDICT)\n",
    "print(f\"Targets len: {len(targets)} Targets clean: {len(targets_clean)} Difference: {len(targets)-len(targets_clean)}\")\n",
    "\n",
    "inputs_clean = [lu.remove_indexes(input, indexes_remove) for input in inputs]    \n",
    "print(f\"targets_clean positions(Keep={index_keep})(First:{targets_clean.index(index_keep)},Last:-{targets_clean[::-1].index(index_keep)})\")\n"
   ]
  },
  {
   "cell_type": "code",
   "execution_count": 672,
   "id": "39663265",
   "metadata": {},
   "outputs": [
    {
     "name": "stdout",
     "output_type": "stream",
     "text": [
      "targets_binary First 225 and Last(counting from end) 208 position with True\n",
      "targets_binary len: 31113 Input clean[0]: 31113 Input clean[-1]: 31113\n"
     ]
    }
   ],
   "source": [
    "# Sets 'index_keep' as target = 1 and rest of indexes to target=0\n",
    "targets_binary= lu.convert_binary(targets_clean, index_keep)\n",
    "print(f\"targets_binary First {targets_binary.index(True)} and Last(counting from end) {targets_binary[::-1].index(True)} position with True\")\n",
    "print(f\"targets_binary len: {len(targets_binary)} Input clean[0]: {len(inputs_clean[0])} Input clean[-1]: {len(inputs_clean[-1])}\")"
   ]
  },
  {
   "cell_type": "code",
   "execution_count": 675,
   "id": "a66b9612-5714-45ea-9237-af591665f186",
   "metadata": {},
   "outputs": [
    {
     "name": "stdout",
     "output_type": "stream",
     "text": [
      "inputs_tensor: torch.Size([16, 31113])\n",
      "inputs_tensor: torch.Size([31113, 16])\n",
      "inputs_clean len0 x len1: 16 x 31113 -> inputs_tensor.shape: torch.Size([31113, 16])\n",
      "targets_binary.shape: 31113 -> targets_tensor.shape: torch.Size([31113])\n",
      "inputs_tensor: tensor([[-1.8235e-03, -8.0495e-04,  9.8073e-04,  ..., -2.5799e-01,\n",
      "         -3.0910e-01, -3.9896e-01],\n",
      "        [ 4.6626e-03,  5.0125e-03,  7.7727e-03,  ..., -2.4590e-01,\n",
      "         -2.9662e-01, -3.8573e-01],\n",
      "        [-3.6644e-04,  2.6221e-03,  4.5341e-03,  ..., -2.4646e-01,\n",
      "         -2.9728e-01, -3.8656e-01],\n",
      "        ...,\n",
      "        [-7.0894e-14, -4.1524e-14,  4.5012e-15,  ...,  6.1169e-02,\n",
      "          6.2858e-02,  4.5298e-02],\n",
      "        [-7.0894e-14, -4.1524e-14,  4.5012e-15,  ...,  6.0981e-02,\n",
      "          6.2854e-02,  4.5293e-02],\n",
      "        [-7.0894e-14, -4.1524e-14,  4.5012e-15,  ...,  6.0832e-02,\n",
      "          6.2844e-02,  4.5288e-02]])\n",
      "targets_tensor: tensor([0., 0., 0.,  ..., 0., 0., 0.])\n"
     ]
    }
   ],
   "source": [
    "import torch\n",
    "\n",
    "inputs_tensor = torch.Tensor(inputs_clean)\n",
    "print(f\"inputs_tensor: {inputs_tensor.size()}\")\n",
    "inputs_tensor = inputs_tensor.T\n",
    "print(f\"inputs_tensor: {inputs_tensor.size()}\")\n",
    "targets_tensor = torch.Tensor(targets_binary)\n",
    "print(f\"inputs_clean len0 x len1: {len(inputs_clean)} x {len(inputs_clean[0])} -> inputs_tensor.shape: {inputs_tensor.shape}\")\n",
    "print(f\"targets_binary.shape: {len(targets_binary)} -> targets_tensor.shape: {targets_tensor.shape}\")\n",
    "print(f\"inputs_tensor: {inputs_tensor}\")\n",
    "print(f\"targets_tensor: {targets_tensor}\")"
   ]
  },
  {
   "cell_type": "code",
   "execution_count": 676,
   "id": "9a759cdf-b8e5-4f12-8b93-49d296c9b403",
   "metadata": {},
   "outputs": [
    {
     "name": "stdout",
     "output_type": "stream",
     "text": [
      "inputs_tensor.size(0): 31113\n",
      "inputs_tensor.shape: torch.Size([31113, 16]) -> inputs_tensor_shuffle.shape: torch.Size([31113, 16])\n",
      "targets_tensor.shape: torch.Size([31113]) -> targets_tensor_shuffle.shape: torch.Size([31113])\n"
     ]
    }
   ],
   "source": [
    "#Shuffle tensors\n",
    "torch.manual_seed(42) \n",
    "permutation = torch.randperm(inputs_tensor.size(0))\n",
    "inputs_tensor_shuffle = inputs_tensor[permutation]\n",
    "\n",
    "targets_tensor_shuffle = targets_tensor[permutation]\n",
    "\n",
    "print(f\"inputs_tensor.size(0): {inputs_tensor.size(0)}\")\n",
    "print(f\"inputs_tensor.shape: {inputs_tensor.shape} -> inputs_tensor_shuffle.shape: {inputs_tensor_shuffle.shape}\")\n",
    "print(f\"targets_tensor.shape: {targets_tensor.shape} -> targets_tensor_shuffle.shape: {targets_tensor_shuffle.shape}\")"
   ]
  },
  {
   "cell_type": "code",
   "execution_count": 677,
   "id": "a7e5a7fa",
   "metadata": {},
   "outputs": [],
   "source": [
    "###################\n",
    "##### SET PARAMETERS\n",
    "###################\n",
    "### If training\n",
    "TRAIN_SPLIT = 0.8\n",
    "#### If real data\n",
    "# TRAIN_SPLIT = 1\n",
    "###################\n",
    "##### SET PARAMETERS\n",
    "###################"
   ]
  },
  {
   "cell_type": "code",
   "execution_count": 678,
   "id": "509cc3f9-10c5-43d0-83a5-4224daee46f8",
   "metadata": {},
   "outputs": [
    {
     "name": "stdout",
     "output_type": "stream",
     "text": [
      "inputs_tensor_train: 24890 inputs_tensor_test: 6223\n"
     ]
    }
   ],
   "source": [
    "\n",
    "train_test_split= int(TRAIN_SPLIT * len(targets_tensor))\n",
    "inputs_tensor_train, targets_tensor_train= inputs_tensor_shuffle[:train_test_split], targets_tensor_shuffle[:train_test_split]\n",
    "inputs_tensor_test, targets_tensor_test= inputs_tensor_shuffle[train_test_split:], targets_tensor_shuffle[train_test_split:]\n",
    "\n",
    "print(f\"inputs_tensor_train: {inputs_tensor_train.size(0)} inputs_tensor_test: {inputs_tensor_test.size(0)}\")"
   ]
  },
  {
   "cell_type": "code",
   "execution_count": 679,
   "id": "89daca86-671c-4257-ba5b-93807f06edbc",
   "metadata": {},
   "outputs": [
    {
     "name": "stdout",
     "output_type": "stream",
     "text": [
      "Distinct targets_tensor_train: [0.0, 1.0]\n",
      "Distinct targets_tensor_test: [0.0, 1.0]\n"
     ]
    }
   ],
   "source": [
    "#All values represented after split\n",
    "print(f\"Distinct targets_tensor_train: {list(set(targets_tensor_train.tolist()))}\")\n",
    "print(f\"Distinct targets_tensor_test: {list(set(targets_tensor_test.tolist()))}\")"
   ]
  },
  {
   "cell_type": "code",
   "execution_count": 680,
   "id": "b45cbcce-5556-49c1-8701-3b38771b10ca",
   "metadata": {},
   "outputs": [],
   "source": [
    "from typing import Tuple\n",
    "import torch\n",
    "from torch.utils.data import Dataset\n",
    "\n",
    "class StockDataset(Dataset):\n",
    "    def __init__(\n",
    "        self,\n",
    "        inputs,\n",
    "        targets):\n",
    "        \n",
    "        self.inputs= inputs\n",
    "        self.targets= targets\n",
    "\n",
    "    def __len__(self) -> int:\n",
    "        return len(self.targets)\n",
    "\n",
    "    def __getitem__(self, index: int) -> Tuple[torch.Tensor, int]:\n",
    "        return self.inputs[index], self.targets[index]\n"
   ]
  },
  {
   "cell_type": "code",
   "execution_count": 681,
   "id": "0e1e55d5-e9e3-4a93-af46-f8ec7eb92f60",
   "metadata": {},
   "outputs": [
    {
     "name": "stdout",
     "output_type": "stream",
     "text": [
      "train_dataset: (tensor([0.0029, 0.0029, 0.0037, 0.0110, 0.0206, 0.0269, 0.0338, 0.0397, 0.0473,\n",
      "        0.0574, 0.0639, 0.0810, 0.0766, 0.0528, 0.0488, 0.0701]), tensor(0.))\n",
      "train_input0: tensor([[ 2.9412e-03,  2.8589e-03,  3.7063e-03,  1.1032e-02,  2.0598e-02,\n",
      "          2.6880e-02,  3.3756e-02,  3.9671e-02,  4.7299e-02,  5.7439e-02,\n",
      "          6.3908e-02,  8.1022e-02,  7.6582e-02,  5.2754e-02,  4.8788e-02,\n",
      "          7.0129e-02],\n",
      "        [-2.4536e-03, -3.0305e-03, -3.9793e-03, -3.8590e-03, -6.7475e-04,\n",
      "          4.6924e-03,  2.2498e-02,  3.3410e-02,  3.6265e-02,  3.7667e-02,\n",
      "          6.4866e-02,  1.2690e-01,  1.8400e-01,  2.0849e-01,  1.8752e-01,\n",
      "          1.4342e-01],\n",
      "        [-1.1268e-03, -2.0693e-03, -1.6413e-03,  5.2088e-04,  1.8120e-03,\n",
      "          9.6066e-03,  2.5070e-02,  4.4512e-02,  6.8096e-02,  6.7778e-02,\n",
      "          7.0663e-02,  9.2760e-02,  5.6314e-02,  6.4036e-03, -2.6330e-02,\n",
      "         -5.8500e-02],\n",
      "        [-1.4042e-03, -3.4924e-03, -6.5076e-03, -8.2238e-03, -1.0844e-02,\n",
      "         -8.9429e-03, -2.1241e-03,  2.1364e-03, -2.7823e-02, -7.8032e-02,\n",
      "         -8.8385e-02, -4.2305e-02,  5.1816e-02,  1.3468e-01,  2.0239e-01,\n",
      "          2.6274e-01],\n",
      "        [ 2.5265e-03,  3.3004e-03,  3.3403e-03,  1.6791e-03,  3.9498e-03,\n",
      "          9.4317e-03,  2.1771e-02,  3.2128e-02,  4.2548e-02,  3.6608e-02,\n",
      "          2.4122e-02,  2.3085e-02,  5.4665e-02,  7.7928e-02,  5.7962e-02,\n",
      "          4.1162e-02],\n",
      "        [ 3.2866e-04,  7.3949e-04,  7.8058e-04,  5.7003e-04,  1.2167e-04,\n",
      "         -2.4572e-03, -3.3253e-03, -8.7955e-04, -2.4532e-03, -6.7616e-03,\n",
      "          1.4101e-02,  3.7424e-02,  6.0821e-02,  5.5802e-02,  4.1924e-02,\n",
      "          7.0316e-02],\n",
      "        [-8.0709e-04, -6.3739e-04, -1.0281e-03,  1.1138e-03,  3.8293e-03,\n",
      "          4.1548e-03,  4.4721e-03,  7.0897e-03,  1.2454e-02,  2.8478e-02,\n",
      "          3.1075e-02,  6.6833e-02,  1.1374e-01,  1.5321e-01,  2.4171e-01,\n",
      "          2.6944e-01],\n",
      "        [-1.9017e-04,  2.8772e-03,  1.7650e-03, -6.2368e-04,  1.4002e-02,\n",
      "          2.7801e-02,  3.6544e-02,  5.1615e-02,  1.9152e-02,  7.9344e-03,\n",
      "          2.7025e-02,  3.7375e-02,  1.3184e-01,  2.2569e-01,  1.4591e-01,\n",
      "          2.1347e-01],\n",
      "        [-1.6248e-03, -1.7145e-03, -2.5638e-03, -4.4758e-03, -1.9246e-03,\n",
      "         -6.0664e-04, -9.2084e-03, -1.4855e-02, -1.5755e-02, -1.0116e-02,\n",
      "          1.4605e-02,  2.5243e-02,  3.4426e-02,  6.8011e-02,  5.7662e-02,\n",
      "          3.8769e-02],\n",
      "        [ 2.3328e-03,  3.3711e-03,  4.6925e-03,  9.2946e-03,  1.2187e-02,\n",
      "          1.1714e-02,  2.8647e-02,  3.9823e-02,  4.2025e-02,  6.9120e-02,\n",
      "          8.1236e-02,  6.6610e-02,  6.7820e-02,  1.5822e-02, -6.8967e-02,\n",
      "          2.4785e-03],\n",
      "        [ 1.4915e-03,  1.8856e-03,  4.1277e-03,  7.0849e-03,  1.2308e-02,\n",
      "          1.9363e-02,  2.1213e-02,  3.2448e-02,  2.7557e-02,  6.1278e-03,\n",
      "         -8.2685e-03, -2.1532e-02, -4.9965e-02, -4.3136e-02,  6.4255e-03,\n",
      "         -3.5259e-02],\n",
      "        [-3.2113e-03, -2.3418e-03,  1.4266e-02,  2.3754e-02,  2.9917e-02,\n",
      "          3.4044e-02,  3.8517e-02,  4.5464e-02,  4.4309e-02,  5.0191e-02,\n",
      "          5.8814e-02,  2.6766e-02, -9.4743e-03, -2.5727e-03,  1.3380e-01,\n",
      "          1.0224e-01],\n",
      "        [ 1.7719e-02,  2.2014e-02,  2.3664e-02,  2.0766e-02,  1.4889e-02,\n",
      "          1.3999e-02,  3.6171e-02,  8.7159e-02,  1.3899e-01,  1.8061e-01,\n",
      "          2.3647e-01,  2.6087e-01,  3.0429e-01,  1.9513e-01,  1.3148e-01,\n",
      "          2.5006e-01],\n",
      "        [ 2.2940e-03,  3.3359e-03,  4.0505e-03,  4.7124e-03,  4.6646e-03,\n",
      "          3.1683e-03,  3.7081e-03,  4.3856e-03,  9.5862e-03,  1.2693e-02,\n",
      "          6.7643e-03, -1.3382e-02, -2.3931e-03,  6.2057e-02,  1.4818e-01,\n",
      "          2.1161e-01],\n",
      "        [-1.0712e-02, -1.8571e-02, -2.5295e-02, -3.0032e-02, -3.5962e-02,\n",
      "         -4.6585e-02, -5.2668e-02, -6.8045e-02, -8.8052e-02, -8.6256e-02,\n",
      "         -7.8630e-02, -7.3881e-02, -1.9751e-02,  6.1026e-02,  1.7873e-01,\n",
      "          2.8752e-01],\n",
      "        [-2.4659e-04, -1.2404e-03, -9.4151e-05, -6.6130e-04,  7.0355e-04,\n",
      "          4.0137e-04, -6.4086e-04, -9.2806e-04, -2.1482e-02, -4.8198e-02,\n",
      "         -9.9806e-02, -1.7011e-01, -2.3820e-01, -5.5827e-01, -1.4277e+00,\n",
      "         -1.7102e+00],\n",
      "        [ 1.4017e-03,  1.5713e-03, -2.1926e-05,  1.1863e-03,  3.3852e-03,\n",
      "          1.0791e-02,  1.5769e-02,  1.5439e-02,  1.6109e-02,  5.7169e-03,\n",
      "          4.1654e-02,  9.9067e-02,  1.5416e-01,  1.8925e-01,  2.3019e-01,\n",
      "          2.4248e-01],\n",
      "        [ 5.7712e-03,  5.4452e-03,  6.0858e-03,  6.4568e-03,  7.1171e-03,\n",
      "          7.0072e-03,  3.5834e-03, -2.7880e-03, -1.9239e-02, -3.2451e-02,\n",
      "         -2.3949e-02, -2.3446e-02,  4.1843e-03,  7.4824e-02,  1.1857e-01,\n",
      "          7.4317e-02],\n",
      "        [-1.7522e-03, -1.6274e-03, -2.0548e-03, -2.4048e-02, -5.1581e-02,\n",
      "         -6.7080e-02, -7.4798e-02, -8.7383e-02, -9.5764e-02, -9.8392e-02,\n",
      "         -1.0153e-01, -1.2038e-01, -1.3064e-01, -1.2852e-01, -1.3481e-01,\n",
      "         -2.1977e-02],\n",
      "        [-1.3688e-04, -1.6896e-03, -1.9926e-03,  2.4967e-02,  4.2439e-02,\n",
      "          5.4080e-02,  6.2648e-02,  8.1580e-02,  1.2005e-01,  1.4936e-01,\n",
      "          1.5908e-01,  1.7034e-01,  1.9689e-01,  2.4642e-01,  3.0528e-01,\n",
      "          3.7204e-01],\n",
      "        [ 2.7039e-03,  6.8285e-04, -4.9086e-03, -1.6591e-02, -2.8200e-02,\n",
      "         -3.9100e-02, -5.3060e-02, -5.6026e-02, -6.9214e-02, -7.6286e-02,\n",
      "         -5.4096e-02, -4.6655e-02, -9.5751e-02, -1.8178e-01, -1.9623e-01,\n",
      "         -5.7241e-02],\n",
      "        [-7.7432e-15, -3.8716e-15, -1.6301e-15,  3.8716e-15,  2.6490e-15,\n",
      "         -2.3990e-03, -2.4857e-03,  5.3405e-03, -1.3850e-02, -5.3089e-03,\n",
      "          2.2497e-02,  1.5945e-02,  1.1443e-02,  1.0575e-01,  1.8930e-01,\n",
      "          2.6437e-01],\n",
      "        [ 6.2833e-04,  1.6157e-03,  2.0406e-03,  2.5227e-03, -2.0104e-03,\n",
      "         -2.6949e-02, -4.4251e-02, -4.9311e-02, -5.5927e-02, -5.2506e-02,\n",
      "         -4.8669e-02, -2.2644e-02,  2.3447e-02,  1.1379e-01,  1.8319e-01,\n",
      "          2.2749e-01],\n",
      "        [ 8.1706e-04,  7.5622e-04, -1.5003e-03, -3.4812e-03, -6.5994e-03,\n",
      "         -1.0790e-02, -1.1969e-02, -5.7024e-03, -1.7899e-02, -4.7335e-02,\n",
      "         -9.1352e-02, -1.3476e-01, -1.8651e-01, -1.7577e-01, -1.7829e-01,\n",
      "         -2.6863e-01],\n",
      "        [-1.7742e-03, -6.0710e-04, -2.9508e-03, -4.1050e-03,  5.1667e-03,\n",
      "          1.1639e-02,  7.3281e-03, -3.4664e-02, -7.7344e-02, -9.9066e-02,\n",
      "         -8.6422e-02, -2.4158e-02,  6.9601e-02,  1.4837e-01,  2.1351e-01,\n",
      "          2.7048e-01],\n",
      "        [-2.3993e-03, -9.8570e-03, -1.4868e-02, -2.2391e-02, -3.2623e-02,\n",
      "         -4.1733e-02, -5.0437e-02, -5.8759e-02, -6.4848e-02, -7.2295e-02,\n",
      "         -6.6982e-02, -2.9112e-02,  5.2487e-02,  1.4467e-01,  1.9452e-01,\n",
      "          1.9808e-01],\n",
      "        [-3.5783e-04,  2.7925e-03,  5.1359e-03,  8.2292e-03,  1.2316e-02,\n",
      "          1.3872e-02,  9.3968e-03,  6.5556e-03,  9.6255e-03, -7.4793e-03,\n",
      "          8.2869e-03,  1.2440e-02,  2.5414e-02,  1.2472e-02, -5.8649e-02,\n",
      "         -1.6476e-01],\n",
      "        [-1.2896e-03, -2.3109e-03, -1.9012e-03, -4.2913e-03, -7.9540e-03,\n",
      "         -1.9381e-02, -2.0694e-02, -2.4163e-02, -1.6768e-02, -1.5272e-02,\n",
      "         -2.4784e-02, -2.1211e-02, -4.7108e-02, -1.1356e-01, -1.3125e-01,\n",
      "         -1.2313e-01],\n",
      "        [ 1.4303e-03,  2.3071e-03,  2.8104e-03,  4.6319e-03,  6.0132e-03,\n",
      "          5.4764e-03,  4.4740e-03,  7.3574e-03,  7.2262e-03,  2.6240e-02,\n",
      "          5.3033e-02,  6.9466e-02,  7.1775e-02,  8.0562e-02,  1.1233e-01,\n",
      "          8.6855e-02],\n",
      "        [ 1.2631e-03,  9.3683e-04,  3.1073e-03,  4.6815e-03,  3.1481e-03,\n",
      "          4.0601e-03,  1.5724e-03, -3.4340e-03, -2.5501e-02, -5.8890e-02,\n",
      "         -8.9793e-02, -1.2414e-01, -1.3463e-01, -2.1104e-01, -3.3515e-01,\n",
      "         -1.2480e+00],\n",
      "        [-3.4767e-03,  4.8574e-03,  1.1748e-02,  1.4704e-02,  1.5550e-02,\n",
      "          1.6820e-02,  2.1398e-02,  2.3880e-02,  3.8504e-02,  6.5674e-02,\n",
      "          8.7892e-02,  1.0933e-01,  1.3653e-01,  2.0705e-01,  2.9337e-01,\n",
      "          1.6745e-01],\n",
      "        [ 2.4201e-03,  2.8650e-03,  3.9754e-03,  5.8724e-03,  5.5288e-03,\n",
      "          8.0409e-03,  1.4768e-02,  2.3620e-02,  2.8053e-02,  2.7320e-02,\n",
      "          1.1419e-02, -7.0763e-01, -1.2660e+00, -1.5268e+00, -1.5090e+00,\n",
      "         -1.6160e+00]]) train_target0: tensor([0., 0., 0., 0., 0., 0., 0., 0., 0., 0., 0., 0., 0., 0., 1., 0., 0., 0.,\n",
      "        0., 1., 1., 0., 0., 0., 0., 1., 0., 0., 0., 0., 1., 1.])\n"
     ]
    }
   ],
   "source": [
    "from torch.utils.data import DataLoader\n",
    "\n",
    "# TODO: When executing only using 33-38% GPU - Try different BATCH_SIZE see if parallelism increases? Learning decreases because less batches?\n",
    "BATCH_SIZE= 32\n",
    "\n",
    "train_dataset= StockDataset(\n",
    "  inputs_tensor_train,\n",
    "  targets_tensor_train\n",
    ")\n",
    "\n",
    "print(f\"train_dataset: {train_dataset[0]}\")\n",
    "\n",
    "train_dataloader= DataLoader(\n",
    "  dataset=train_dataset,\n",
    "  batch_size=BATCH_SIZE,\n",
    "  shuffle=False\n",
    ")\n",
    "\n",
    "train_input0, train_target0= next(iter(train_dataloader))\n",
    "print(f\"train_input0: {train_input0} train_target0: {train_target0}\")\n"
   ]
  },
  {
   "cell_type": "markdown",
   "id": "bc9de6ab",
   "metadata": {},
   "source": [
    "\n",
    "### STOP HERE WHEN TESTING WITH REAL DATA: \n",
    "Go to step that load saved network"
   ]
  },
  {
   "cell_type": "code",
   "execution_count": 682,
   "id": "cc3e3e58",
   "metadata": {},
   "outputs": [
    {
     "name": "stdout",
     "output_type": "stream",
     "text": [
      "train_dataset: (tensor([0.0029, 0.0029, 0.0037, 0.0110, 0.0206, 0.0269, 0.0338, 0.0397, 0.0473,\n",
      "        0.0574, 0.0639, 0.0810, 0.0766, 0.0528, 0.0488, 0.0701]), tensor(0.))\n",
      "test_input0: tensor([[ 2.9412e-03,  2.8589e-03,  3.7063e-03,  1.1032e-02,  2.0598e-02,\n",
      "          2.6880e-02,  3.3756e-02,  3.9671e-02,  4.7299e-02,  5.7439e-02,\n",
      "          6.3908e-02,  8.1022e-02,  7.6582e-02,  5.2754e-02,  4.8788e-02,\n",
      "          7.0129e-02],\n",
      "        [-2.4536e-03, -3.0305e-03, -3.9793e-03, -3.8590e-03, -6.7475e-04,\n",
      "          4.6924e-03,  2.2498e-02,  3.3410e-02,  3.6265e-02,  3.7667e-02,\n",
      "          6.4866e-02,  1.2690e-01,  1.8400e-01,  2.0849e-01,  1.8752e-01,\n",
      "          1.4342e-01],\n",
      "        [-1.1268e-03, -2.0693e-03, -1.6413e-03,  5.2088e-04,  1.8120e-03,\n",
      "          9.6066e-03,  2.5070e-02,  4.4512e-02,  6.8096e-02,  6.7778e-02,\n",
      "          7.0663e-02,  9.2760e-02,  5.6314e-02,  6.4036e-03, -2.6330e-02,\n",
      "         -5.8500e-02],\n",
      "        [-1.4042e-03, -3.4924e-03, -6.5076e-03, -8.2238e-03, -1.0844e-02,\n",
      "         -8.9429e-03, -2.1241e-03,  2.1364e-03, -2.7823e-02, -7.8032e-02,\n",
      "         -8.8385e-02, -4.2305e-02,  5.1816e-02,  1.3468e-01,  2.0239e-01,\n",
      "          2.6274e-01],\n",
      "        [ 2.5265e-03,  3.3004e-03,  3.3403e-03,  1.6791e-03,  3.9498e-03,\n",
      "          9.4317e-03,  2.1771e-02,  3.2128e-02,  4.2548e-02,  3.6608e-02,\n",
      "          2.4122e-02,  2.3085e-02,  5.4665e-02,  7.7928e-02,  5.7962e-02,\n",
      "          4.1162e-02],\n",
      "        [ 3.2866e-04,  7.3949e-04,  7.8058e-04,  5.7003e-04,  1.2167e-04,\n",
      "         -2.4572e-03, -3.3253e-03, -8.7955e-04, -2.4532e-03, -6.7616e-03,\n",
      "          1.4101e-02,  3.7424e-02,  6.0821e-02,  5.5802e-02,  4.1924e-02,\n",
      "          7.0316e-02],\n",
      "        [-8.0709e-04, -6.3739e-04, -1.0281e-03,  1.1138e-03,  3.8293e-03,\n",
      "          4.1548e-03,  4.4721e-03,  7.0897e-03,  1.2454e-02,  2.8478e-02,\n",
      "          3.1075e-02,  6.6833e-02,  1.1374e-01,  1.5321e-01,  2.4171e-01,\n",
      "          2.6944e-01],\n",
      "        [-1.9017e-04,  2.8772e-03,  1.7650e-03, -6.2368e-04,  1.4002e-02,\n",
      "          2.7801e-02,  3.6544e-02,  5.1615e-02,  1.9152e-02,  7.9344e-03,\n",
      "          2.7025e-02,  3.7375e-02,  1.3184e-01,  2.2569e-01,  1.4591e-01,\n",
      "          2.1347e-01],\n",
      "        [-1.6248e-03, -1.7145e-03, -2.5638e-03, -4.4758e-03, -1.9246e-03,\n",
      "         -6.0664e-04, -9.2084e-03, -1.4855e-02, -1.5755e-02, -1.0116e-02,\n",
      "          1.4605e-02,  2.5243e-02,  3.4426e-02,  6.8011e-02,  5.7662e-02,\n",
      "          3.8769e-02],\n",
      "        [ 2.3328e-03,  3.3711e-03,  4.6925e-03,  9.2946e-03,  1.2187e-02,\n",
      "          1.1714e-02,  2.8647e-02,  3.9823e-02,  4.2025e-02,  6.9120e-02,\n",
      "          8.1236e-02,  6.6610e-02,  6.7820e-02,  1.5822e-02, -6.8967e-02,\n",
      "          2.4785e-03],\n",
      "        [ 1.4915e-03,  1.8856e-03,  4.1277e-03,  7.0849e-03,  1.2308e-02,\n",
      "          1.9363e-02,  2.1213e-02,  3.2448e-02,  2.7557e-02,  6.1278e-03,\n",
      "         -8.2685e-03, -2.1532e-02, -4.9965e-02, -4.3136e-02,  6.4255e-03,\n",
      "         -3.5259e-02],\n",
      "        [-3.2113e-03, -2.3418e-03,  1.4266e-02,  2.3754e-02,  2.9917e-02,\n",
      "          3.4044e-02,  3.8517e-02,  4.5464e-02,  4.4309e-02,  5.0191e-02,\n",
      "          5.8814e-02,  2.6766e-02, -9.4743e-03, -2.5727e-03,  1.3380e-01,\n",
      "          1.0224e-01],\n",
      "        [ 1.7719e-02,  2.2014e-02,  2.3664e-02,  2.0766e-02,  1.4889e-02,\n",
      "          1.3999e-02,  3.6171e-02,  8.7159e-02,  1.3899e-01,  1.8061e-01,\n",
      "          2.3647e-01,  2.6087e-01,  3.0429e-01,  1.9513e-01,  1.3148e-01,\n",
      "          2.5006e-01],\n",
      "        [ 2.2940e-03,  3.3359e-03,  4.0505e-03,  4.7124e-03,  4.6646e-03,\n",
      "          3.1683e-03,  3.7081e-03,  4.3856e-03,  9.5862e-03,  1.2693e-02,\n",
      "          6.7643e-03, -1.3382e-02, -2.3931e-03,  6.2057e-02,  1.4818e-01,\n",
      "          2.1161e-01],\n",
      "        [-1.0712e-02, -1.8571e-02, -2.5295e-02, -3.0032e-02, -3.5962e-02,\n",
      "         -4.6585e-02, -5.2668e-02, -6.8045e-02, -8.8052e-02, -8.6256e-02,\n",
      "         -7.8630e-02, -7.3881e-02, -1.9751e-02,  6.1026e-02,  1.7873e-01,\n",
      "          2.8752e-01],\n",
      "        [-2.4659e-04, -1.2404e-03, -9.4151e-05, -6.6130e-04,  7.0355e-04,\n",
      "          4.0137e-04, -6.4086e-04, -9.2806e-04, -2.1482e-02, -4.8198e-02,\n",
      "         -9.9806e-02, -1.7011e-01, -2.3820e-01, -5.5827e-01, -1.4277e+00,\n",
      "         -1.7102e+00],\n",
      "        [ 1.4017e-03,  1.5713e-03, -2.1926e-05,  1.1863e-03,  3.3852e-03,\n",
      "          1.0791e-02,  1.5769e-02,  1.5439e-02,  1.6109e-02,  5.7169e-03,\n",
      "          4.1654e-02,  9.9067e-02,  1.5416e-01,  1.8925e-01,  2.3019e-01,\n",
      "          2.4248e-01],\n",
      "        [ 5.7712e-03,  5.4452e-03,  6.0858e-03,  6.4568e-03,  7.1171e-03,\n",
      "          7.0072e-03,  3.5834e-03, -2.7880e-03, -1.9239e-02, -3.2451e-02,\n",
      "         -2.3949e-02, -2.3446e-02,  4.1843e-03,  7.4824e-02,  1.1857e-01,\n",
      "          7.4317e-02],\n",
      "        [-1.7522e-03, -1.6274e-03, -2.0548e-03, -2.4048e-02, -5.1581e-02,\n",
      "         -6.7080e-02, -7.4798e-02, -8.7383e-02, -9.5764e-02, -9.8392e-02,\n",
      "         -1.0153e-01, -1.2038e-01, -1.3064e-01, -1.2852e-01, -1.3481e-01,\n",
      "         -2.1977e-02],\n",
      "        [-1.3688e-04, -1.6896e-03, -1.9926e-03,  2.4967e-02,  4.2439e-02,\n",
      "          5.4080e-02,  6.2648e-02,  8.1580e-02,  1.2005e-01,  1.4936e-01,\n",
      "          1.5908e-01,  1.7034e-01,  1.9689e-01,  2.4642e-01,  3.0528e-01,\n",
      "          3.7204e-01],\n",
      "        [ 2.7039e-03,  6.8285e-04, -4.9086e-03, -1.6591e-02, -2.8200e-02,\n",
      "         -3.9100e-02, -5.3060e-02, -5.6026e-02, -6.9214e-02, -7.6286e-02,\n",
      "         -5.4096e-02, -4.6655e-02, -9.5751e-02, -1.8178e-01, -1.9623e-01,\n",
      "         -5.7241e-02],\n",
      "        [-7.7432e-15, -3.8716e-15, -1.6301e-15,  3.8716e-15,  2.6490e-15,\n",
      "         -2.3990e-03, -2.4857e-03,  5.3405e-03, -1.3850e-02, -5.3089e-03,\n",
      "          2.2497e-02,  1.5945e-02,  1.1443e-02,  1.0575e-01,  1.8930e-01,\n",
      "          2.6437e-01],\n",
      "        [ 6.2833e-04,  1.6157e-03,  2.0406e-03,  2.5227e-03, -2.0104e-03,\n",
      "         -2.6949e-02, -4.4251e-02, -4.9311e-02, -5.5927e-02, -5.2506e-02,\n",
      "         -4.8669e-02, -2.2644e-02,  2.3447e-02,  1.1379e-01,  1.8319e-01,\n",
      "          2.2749e-01],\n",
      "        [ 8.1706e-04,  7.5622e-04, -1.5003e-03, -3.4812e-03, -6.5994e-03,\n",
      "         -1.0790e-02, -1.1969e-02, -5.7024e-03, -1.7899e-02, -4.7335e-02,\n",
      "         -9.1352e-02, -1.3476e-01, -1.8651e-01, -1.7577e-01, -1.7829e-01,\n",
      "         -2.6863e-01],\n",
      "        [-1.7742e-03, -6.0710e-04, -2.9508e-03, -4.1050e-03,  5.1667e-03,\n",
      "          1.1639e-02,  7.3281e-03, -3.4664e-02, -7.7344e-02, -9.9066e-02,\n",
      "         -8.6422e-02, -2.4158e-02,  6.9601e-02,  1.4837e-01,  2.1351e-01,\n",
      "          2.7048e-01],\n",
      "        [-2.3993e-03, -9.8570e-03, -1.4868e-02, -2.2391e-02, -3.2623e-02,\n",
      "         -4.1733e-02, -5.0437e-02, -5.8759e-02, -6.4848e-02, -7.2295e-02,\n",
      "         -6.6982e-02, -2.9112e-02,  5.2487e-02,  1.4467e-01,  1.9452e-01,\n",
      "          1.9808e-01],\n",
      "        [-3.5783e-04,  2.7925e-03,  5.1359e-03,  8.2292e-03,  1.2316e-02,\n",
      "          1.3872e-02,  9.3968e-03,  6.5556e-03,  9.6255e-03, -7.4793e-03,\n",
      "          8.2869e-03,  1.2440e-02,  2.5414e-02,  1.2472e-02, -5.8649e-02,\n",
      "         -1.6476e-01],\n",
      "        [-1.2896e-03, -2.3109e-03, -1.9012e-03, -4.2913e-03, -7.9540e-03,\n",
      "         -1.9381e-02, -2.0694e-02, -2.4163e-02, -1.6768e-02, -1.5272e-02,\n",
      "         -2.4784e-02, -2.1211e-02, -4.7108e-02, -1.1356e-01, -1.3125e-01,\n",
      "         -1.2313e-01],\n",
      "        [ 1.4303e-03,  2.3071e-03,  2.8104e-03,  4.6319e-03,  6.0132e-03,\n",
      "          5.4764e-03,  4.4740e-03,  7.3574e-03,  7.2262e-03,  2.6240e-02,\n",
      "          5.3033e-02,  6.9466e-02,  7.1775e-02,  8.0562e-02,  1.1233e-01,\n",
      "          8.6855e-02],\n",
      "        [ 1.2631e-03,  9.3683e-04,  3.1073e-03,  4.6815e-03,  3.1481e-03,\n",
      "          4.0601e-03,  1.5724e-03, -3.4340e-03, -2.5501e-02, -5.8890e-02,\n",
      "         -8.9793e-02, -1.2414e-01, -1.3463e-01, -2.1104e-01, -3.3515e-01,\n",
      "         -1.2480e+00],\n",
      "        [-3.4767e-03,  4.8574e-03,  1.1748e-02,  1.4704e-02,  1.5550e-02,\n",
      "          1.6820e-02,  2.1398e-02,  2.3880e-02,  3.8504e-02,  6.5674e-02,\n",
      "          8.7892e-02,  1.0933e-01,  1.3653e-01,  2.0705e-01,  2.9337e-01,\n",
      "          1.6745e-01],\n",
      "        [ 2.4201e-03,  2.8650e-03,  3.9754e-03,  5.8724e-03,  5.5288e-03,\n",
      "          8.0409e-03,  1.4768e-02,  2.3620e-02,  2.8053e-02,  2.7320e-02,\n",
      "          1.1419e-02, -7.0763e-01, -1.2660e+00, -1.5268e+00, -1.5090e+00,\n",
      "         -1.6160e+00]]) test_target0: tensor([0., 1., 0., 0., 1., 0., 0., 1., 0., 0., 0., 1., 0., 1., 0., 0., 1., 1.,\n",
      "        0., 0., 0., 0., 0., 0., 0., 1., 1., 0., 1., 0., 1., 0.])\n"
     ]
    }
   ],
   "source": [
    "test_dataset= StockDataset(\n",
    "  inputs_tensor_test,\n",
    "  targets_tensor_test\n",
    ")\n",
    "\n",
    "print(f\"train_dataset: {train_dataset[0]}\")\n",
    "\n",
    "test_dataloader= DataLoader(\n",
    "  dataset=test_dataset,\n",
    "  batch_size=BATCH_SIZE,\n",
    "  shuffle=False\n",
    ")\n",
    "\n",
    "test_input0, test_target0= next(iter(test_dataloader))\n",
    "print(f\"test_input0: {train_input0} test_target0: {test_target0}\")\n"
   ]
  },
  {
   "cell_type": "code",
   "execution_count": 683,
   "id": "75e14903",
   "metadata": {},
   "outputs": [],
   "source": [
    "###################\n",
    "##### SET PARAMETERS\n",
    "###################\n",
    "HIDDEN_UNITS=12\n",
    "###################\n",
    "##### SET PARAMETERS\n",
    "###################"
   ]
  },
  {
   "cell_type": "code",
   "execution_count": 684,
   "id": "dd01423f-68e8-434f-8b20-bb0583bade18",
   "metadata": {},
   "outputs": [],
   "source": [
    "# EXECUTE FROM THIS STEP To CREATE A NETWORK WITH RANDOM WEIGHTS\n",
    "\n",
    "import torch\n",
    "from torch import nn\n",
    "\n",
    "class StockModelBinaryV0(nn.Module):\n",
    "  def __init__(self, input_features, hidden_units):\n",
    "    \"\"\"Initializes multi-class classification model\"\"\"\n",
    "    super().__init__()\n",
    "    self.linear_layer_stack = nn.Sequential(\n",
    "      nn.Linear(in_features=input_features, out_features=hidden_units*16),\n",
    "      nn.LeakyReLU(negative_slope=0.1),\n",
    "      nn.Linear(in_features=hidden_units*16, out_features=hidden_units*8),\n",
    "      nn.LeakyReLU(negative_slope=0.1),\n",
    "      nn.Linear(in_features=hidden_units*8, out_features=hidden_units*4),\n",
    "      nn.LeakyReLU(negative_slope=0.1),\n",
    "      nn.Linear(in_features=hidden_units*4, out_features=hidden_units),\n",
    "      nn.LeakyReLU(negative_slope=0.1),\n",
    "      nn.Linear(in_features=hidden_units, out_features=1)\n",
    "    )\n",
    "\n",
    "  def forward(self, x):\n",
    "    # print(\"forward x: \",\", \".join([str(num) for num in x.tolist()]))\n",
    "    # Layers are defined inside the Sequencial NN and will be applied here.\n",
    "    return self.linear_layer_stack(x)\n",
    "\n",
    "# Create an instance of the model\n",
    "model_0 = StockModelBinaryV0(\n",
    "  input_features=len(signal_avg),\n",
    "  hidden_units=HIDDEN_UNITS).to(device)\n"
   ]
  },
  {
   "cell_type": "code",
   "execution_count": 685,
   "id": "293a691f-abc2-40a4-99d9-d6b705e9257d",
   "metadata": {},
   "outputs": [
    {
     "name": "stdout",
     "output_type": "stream",
     "text": [
      "num_ones: 7123 class_weights: tensor([0.2862, 0.7138])\n"
     ]
    }
   ],
   "source": [
    "import torchmetrics\n",
    "\n",
    "# loss_fn = nn.BCEWithLogitsLoss()\n",
    "\n",
    "# Loss function for an imbalanced dataset (there many more 0's than 1's). Apply more weight to the less frequent class\n",
    "num_ones = torch.count_nonzero(targets_tensor_train)\n",
    "num_samples = [len(targets_tensor_train)-num_ones, num_ones]\n",
    "class_weights = 1.0 / torch.tensor(num_samples, dtype=torch.float32)\n",
    "class_weights = class_weights / torch.sum(class_weights)\n",
    "print(f\"num_ones: {num_ones} class_weights: {class_weights}\")\n",
    "\n",
    "loss_fn = nn.BCEWithLogitsLoss(pos_weight=class_weights[1])\n",
    "\n",
    "best_test_performance = 0\n",
    "best_model_state_dict = None\n"
   ]
  },
  {
   "cell_type": "code",
   "execution_count": 686,
   "id": "98e5eb2e",
   "metadata": {},
   "outputs": [],
   "source": [
    "###################\n",
    "##### SET PARAMETERS\n",
    "###################\n",
    "# PERFORMANCE_MEASURE=\"accu\"\n",
    "# performance_fn= torchmetrics.Accuracy(task='binary').to(device)\n",
    "PERFORMANCE_MEASURE=\"prec\"\n",
    "performance_fn= torchmetrics.Precision(task='binary').to(device)\n",
    "# PERFORMANCE_MEASURE=\"reca\"\n",
    "# performance_fn= torchmetrics.Recall(task='binary').to(device)\n",
    "###################\n",
    "##### SET PARAMETERS\n",
    "###################"
   ]
  },
  {
   "cell_type": "code",
   "execution_count": 713,
   "id": "8adf8712",
   "metadata": {},
   "outputs": [],
   "source": [
    "###################\n",
    "##### SET PARAMETERS\n",
    "###################\n",
    "# DO: AFTER THIS CELL RUNS EXECUTE CELLS UNTIL SAVE STEP TO KEEP BEST RESULT IN CASE IT GOES DOWN\n",
    "#    lr = 0.1 -> 0.03 -> 0.001\n",
    "#    epochs 200 + 200 (lr=0.1) -> 100 (lr=0.03) -> 100 (lr=0.001)\n",
    "# EXECUTE 0.1 x 200 for 2 TIMES (or 400 for 1 time)\n",
    "# optimizer = torch.optim.SGD(params=model_0.parameters(), lr=0.1)\n",
    "# epochs=400\n",
    "# optimizer = torch.optim.SGD(params=model_0.parameters(), lr=0.03)\n",
    "# epochs=100\n",
    "# optimizer = torch.optim.SGD(params=model_0.parameters(), lr=0.005)\n",
    "# epochs=100\n",
    "# optimizer = torch.optim.SGD(params=model_0.parameters(), lr=0.0007)\n",
    "# epochs=100\n",
    "# optimizer = torch.optim.SGD(params=model_0.parameters(), lr=0.0001)\n",
    "# epochs=100\n",
    "###Using Adam optimizer\n",
    "# learning_rate = 0.005\n",
    "# beta_1 = 0.9\n",
    "# beta_2 = 0.999\n",
    "# decay = 0.01\n",
    "# optimizer = optim.Adam(params=model_0.parameters(), lr=learning_rate, betas=(beta_1, beta_2), eps=1e-8, weight_decay=decay)\n",
    "# epochs=2000\n",
    "##### Using a StepLR Scheduler\n",
    "from torch.optim.lr_scheduler import StepLR\n",
    "\n",
    "# rate= 0.01\n",
    "# gamma = 0.45\n",
    "# optimizer = torch.optim.SGD(params=model_0.parameters(), lr=rate)\n",
    "# scheduler = StepLR(optimizer, step_size=100, gamma=gamma)\n",
    "# epochs=900\n",
    "## If continue optimization\n",
    "last_rate= 0.0000586\n",
    "gamma = 0.95\n",
    "optimizer = torch.optim.SGD(params=model_0.parameters(), lr=last_rate*gamma)\n",
    "scheduler = StepLR(optimizer, step_size=20, gamma=gamma)\n",
    "epochs= 200\n",
    "###################\n",
    "##### SET PARAMETERS\n",
    "###################"
   ]
  },
  {
   "cell_type": "code",
   "execution_count": 714,
   "id": "b8757655-3fc1-4b53-93da-5bb94f4ed651",
   "metadata": {},
   "outputs": [
    {
     "name": "stdout",
     "output_type": "stream",
     "text": [
      "Epoch: 1 lr: 0.0000557 | Loss: 0.19712 prec: 91.0513% | Test loss: 0.21539 Test prec: 90.4401%\n",
      "Epoch: 11 lr: 0.0000557 | Loss: 0.19677 prec: 91.0954% | Test loss: 0.21505 Test prec: 90.3887%\n",
      "Epoch: 21 lr: 0.0000529 | Loss: 0.19634 prec: 91.1899% | Test loss: 0.21462 Test prec: 90.6154%\n",
      "Epoch: 31 lr: 0.0000529 | Loss: 0.19602 prec: 91.2024% | Test loss: 0.21429 Test prec: 90.6705%\n",
      "Epoch: 41 lr: 0.0000502 | Loss: 0.19561 prec: 91.1990% | Test loss: 0.21389 Test prec: 90.8462%\n",
      "Epoch: 51 lr: 0.0000502 | Loss: 0.19530 prec: 91.1619% | Test loss: 0.21357 Test prec: 90.8462%\n",
      "Epoch: 61 lr: 0.0000477 | Loss: 0.19491 prec: 91.2510% | Test loss: 0.21320 Test prec: 91.0205%\n",
      "Epoch: 71 lr: 0.0000477 | Loss: 0.19462 prec: 91.2651% | Test loss: 0.21290 Test prec: 91.0391%\n",
      "Epoch: 81 lr: 0.0000453 | Loss: 0.19426 prec: 91.3717% | Test loss: 0.21254 Test prec: 90.9009%\n",
      "Epoch: 91 lr: 0.0000453 | Loss: 0.19398 prec: 91.3977% | Test loss: 0.21225 Test prec: 90.9009%\n",
      "Epoch: 101 lr: 0.0000431 | Loss: 0.19364 prec: 91.5204% | Test loss: 0.21197 Test prec: 91.0242%\n",
      "Epoch: 111 lr: 0.0000431 | Loss: 0.19338 prec: 91.5292% | Test loss: 0.21171 Test prec: 90.9852%\n",
      "Epoch: 121 lr: 0.0000409 | Loss: 0.19305 prec: 91.6216% | Test loss: 0.21144 Test prec: 91.0242%\n",
      "Epoch: 131 lr: 0.0000409 | Loss: 0.19280 prec: 91.6371% | Test loss: 0.21122 Test prec: 90.9242%\n",
      "Epoch: 141 lr: 0.0000389 | Loss: 0.19248 prec: 91.6362% | Test loss: 0.21096 Test prec: 90.9688%\n",
      "Epoch: 151 lr: 0.0000389 | Loss: 0.19225 prec: 91.6233% | Test loss: 0.21073 Test prec: 91.0156%\n",
      "Epoch: 161 lr: 0.0000369 | Loss: 0.19196 prec: 91.6176% | Test loss: 0.21048 Test prec: 91.1352%\n",
      "Epoch: 171 lr: 0.0000369 | Loss: 0.19174 prec: 91.6115% | Test loss: 0.21025 Test prec: 91.0858%\n",
      "Epoch: 181 lr: 0.0000351 | Loss: 0.19146 prec: 91.6273% | Test loss: 0.21002 Test prec: 91.2638%\n",
      "Epoch: 191 lr: 0.0000351 | Loss: 0.19125 prec: 91.6274% | Test loss: 0.20981 Test prec: 91.2695%\n",
      "Last Loss: 0.19107 prec: 91.6263% | Test loss: 0.20963 Test prec: 91.2695%\n"
     ]
    }
   ],
   "source": [
    "for epoch in range(epochs):\n",
    "    train_loss, train_performance= 0, 0\n",
    "    train_samples = 0\n",
    "\n",
    "    # Training\n",
    "    model_0.train()\n",
    "\n",
    "    for batch, (X, y) in enumerate(train_dataloader):\n",
    "        X= X.to(device)\n",
    "        y= y.to(device)\n",
    "\n",
    "        # Forward pass\n",
    "        y_logits= model_0(X).squeeze()\n",
    "        \n",
    "        # turn logits -> prediction probabilities -> prediction labels\n",
    "        y_pred= torch.round(torch.sigmoid(y_logits))\n",
    "        \n",
    "        # Calculate loss and accuracy\n",
    "        loss= loss_fn(y_logits, y)\n",
    "        train_loss+= loss * X.size(0)\n",
    "        train_performance+= performance_fn(y_pred, y) * X.size(0)\n",
    "        train_samples += X.size(0)\n",
    "        \n",
    "        # Zero the gradients to avoid accomulating gradients from previous iteration\n",
    "        optimizer.zero_grad()\n",
    "        \n",
    "        # Backpropagation\n",
    "        loss.backward()\n",
    "        \n",
    "        # Updates the model usign the gradients\n",
    "        optimizer.step()\n",
    "    \n",
    "    train_loss /= train_samples\n",
    "    train_performance /= train_samples\n",
    "      \n",
    "    model_0.eval()\n",
    "    test_loss, test_performance= 0, 0\n",
    "    test_samples = 0\n",
    "    with torch.inference_mode():\n",
    "        for X, y in test_dataloader:\n",
    "            X= X.to(device)\n",
    "            y= y.to(device)\n",
    "        \n",
    "            # Predict for test data\n",
    "            test_logits= model_0(X).squeeze()\n",
    "            test_pred= torch.round(torch.sigmoid(test_logits))\n",
    "            \n",
    "            # Calculate test loss/accuracy\n",
    "            test_loss+= loss_fn(test_logits, y) * X.size(0)\n",
    "            test_performance+= performance_fn(test_pred, y) * X.size(0)\n",
    "            test_samples += X.size(0)\n",
    "\n",
    "        test_loss /= test_samples\n",
    "        test_performance /= test_samples\n",
    "    \n",
    "    if test_performance > best_test_performance:\n",
    "        best_test_performance = test_performance\n",
    "        best_model_state_dict = model_0.state_dict().copy()\n",
    "            \n",
    "    if epoch % 10 == 0:\n",
    "      print(f\"Epoch: {epoch+1} lr: {optimizer.param_groups[0]['lr']:.7f} | Loss: {train_loss:.5f} {PERFORMANCE_MEASURE}: {train_performance*100:.4f}% | Test loss: {test_loss:.5f} Test {PERFORMANCE_MEASURE}: {test_performance*100:.4f}%\")\n",
    "\n",
    "    # Update the learning rate\n",
    "    scheduler.step()\n",
    "\n",
    "print(f\"Last Loss: {train_loss:.5f} {PERFORMANCE_MEASURE}: {train_performance*100:.4f}% | Test loss: {test_loss:.5f} Test {PERFORMANCE_MEASURE}: {test_performance*100:.4f}%\")"
   ]
  },
  {
   "cell_type": "code",
   "execution_count": 717,
   "id": "d5fc3e0a-5ab5-4a72-a744-0d465dcbec94",
   "metadata": {},
   "outputs": [
    {
     "name": "stdout",
     "output_type": "stream",
     "text": [
      "After training results: Test loss: 0.20963 Test prec: 91.07%\n",
      "Confusion matrix:\n",
      "tensor([[4245,  137],\n",
      "        [ 444, 1397]])\n",
      "false_positives: 137 true_positives: 1397\n"
     ]
    },
    {
     "data": {
      "image/png": "[encoded data removed]",
      "text/plain": [
       "<Figure size 1000x700 with 1 Axes>"
      ]
     },
     "metadata": {},
     "output_type": "display_data"
    }
   ],
   "source": [
    "from torchmetrics import ConfusionMatrix\n",
    "from mlxtend.plotting import plot_confusion_matrix\n",
    "\n",
    "model_0.eval()\n",
    "test_loss, test_performance= 0, 0\n",
    "with torch.inference_mode():\n",
    "    X= inputs_tensor_test.to(device)\n",
    "    y= targets_tensor_test.to(device)\n",
    "\n",
    "    # Predict for test data\n",
    "    test_logits= model_0(X).squeeze()\n",
    "    test_pred= torch.round(torch.sigmoid(test_logits))\n",
    "    \n",
    "    # Calculate test loss/accuracy\n",
    "    test_loss+= loss_fn(test_logits, y)\n",
    "    test_performance+= performance_fn(test_pred, y)\n",
    "\n",
    "    # test_loss /= targets_tensor_test.size(0)\n",
    "    # test_performance /= targets_tensor_test.size(0)\n",
    "\n",
    "print(f\"After training results: Test loss: {test_loss:.5f} Test {PERFORMANCE_MEASURE}: {test_performance*100:.2f}%\")\n",
    "\n",
    "confmat= ConfusionMatrix(task='binary')\n",
    "\n",
    "# test_data.targets are the values we want to predict in the test dataloader\n",
    "confmat_tensor= confmat(\n",
    "  preds= test_pred.cpu(),\n",
    "  target= targets_tensor_test.cpu())\n",
    "\n",
    "# Plot the confusion matrix\n",
    "fig, ax= plot_confusion_matrix(\n",
    "  conf_mat= confmat_tensor.numpy(),\n",
    "  figsize= (10, 7)\n",
    ")\n",
    "\n",
    "print(f\"Confusion matrix:\\n{confmat_tensor}\")\n",
    "\n",
    "false_positives = confmat_tensor[0, 1].item()\n",
    "true_positives = confmat_tensor[1, 1].item()\n",
    "print(f\"false_positives: {false_positives} true_positives: {true_positives}\")"
   ]
  },
  {
   "cell_type": "code",
   "execution_count": 716,
   "id": "32a36498-a273-4bcf-872c-3fa55e8deb92",
   "metadata": {},
   "outputs": [
    {
     "name": "stdout",
     "output_type": "stream",
     "text": [
      "Model saved as: 2024-04-29-TSLA-predictUP-dates20190101-20240101-in16-hid12-down4-up7-prec9107pct-fp137tp1397-imbalance\n"
     ]
    }
   ],
   "source": [
    "# DECISION SET: MODEL_NAME = Name of the file where saving model results\n",
    "\n",
    "from pathlib import Path\n",
    "from datetime import date\n",
    "\n",
    "# Create directory, if it doesn't exist, to store models\n",
    "MODEL_PATH= Path(\"models\")\n",
    "MODEL_PATH.mkdir(parents=True, exist_ok=True)\n",
    "\n",
    "target= \"UP\" if len(DOWN_PCTS_PREDICT) > 0 else \"DOWN\"\n",
    "\n",
    "# Create path to the model\n",
    "MODEL_NAME= f\"{date.today().strftime('%Y-%m-%d')}-{TICKER}-predict{target}-dates20190101-20240101-in16-hid{HIDDEN_UNITS}-down{DOWN_PCTS_PREDICT[0]}-up{UP_PCTS_PREDICT[0]}-{PERFORMANCE_MEASURE}{test_performance*10000:.0f}pct-fp{false_positives}tp{true_positives}-imbalance\"\n",
    "MODEL_SAVE_PATH = MODEL_PATH / MODEL_NAME\n",
    "\n",
    "torch.save(\n",
    "  obj=model_0.state_dict(),\n",
    "  f=f\"{MODEL_SAVE_PATH}.pth\")\n",
    "\n",
    "torch.save(\n",
    "    obj=best_model_state_dict, \n",
    "    f=f\"{MODEL_SAVE_PATH}-model-best.pth\")\n",
    "\n",
    "\n",
    "print(f\"Model saved as: {MODEL_NAME}\")"
   ]
  },
  {
   "cell_type": "markdown",
   "id": "19dff83e",
   "metadata": {},
   "source": [
    "### Steps for saved network"
   ]
  },
  {
   "cell_type": "code",
   "execution_count": null,
   "id": "f7618520-c165-448f-acb7-522dd09a092a",
   "metadata": {},
   "outputs": [],
   "source": [
    "# Loads the save network\n",
    "from pathlib import Path\n",
    "\n",
    "# Create directory, if it doesn't exist, to store models\n",
    "MODEL_PATH= Path(\"models\")\n",
    "MODEL_PATH.mkdir(parents=True, exist_ok=True)\n",
    "MODEL_NAME= f\"2024-04-29-TSLA-predictUP-dates20190101-20240201-in16-hid12-down2-up4-loss9255pct-prec-fp82tp1019-imbalance.pth\"\n",
    "MODEL_SAVE_PATH = MODEL_PATH / MODEL_NAME\n",
    "\n",
    "loaded_model_0 = StockModelBinaryV0(16, 12)\n",
    "# Created a model from same class and since load_state_dict() is method from nn.Module it can be called to populate the state\n",
    "loaded_model_0.load_state_dict(torch.load(f=MODEL_SAVE_PATH))\n",
    "loaded_model_0.to(device)"
   ]
  },
  {
   "cell_type": "code",
   "execution_count": null,
   "id": "476db488-fb25-4ac7-a2fe-760de3088fa8",
   "metadata": {},
   "outputs": [],
   "source": [
    "# Execute with saved network\n",
    "\n",
    "loaded_model_0.eval()\n",
    "real_loss, real_performance= 0, 0\n",
    "with torch.inference_mode():\n",
    "    X= inputs_tensor_train.to(device)\n",
    "    y= targets_tensor_train.to(device)\n",
    "\n",
    "    # Predict for test data\n",
    "    real_logits= loaded_model_0(X).squeeze()\n",
    "    real_pred= torch.round(torch.sigmoid(real_logits))\n",
    "    \n",
    "    # Calculate test loss/accuracy\n",
    "    real_loss+= loss_fn(real_logits, y)\n",
    "    real_performance+= performance_fn(real_pred, y)    \n",
    "\n",
    "    real_loss /= targets_tensor_train.size(0)\n",
    "    real_performance /= targets_tensor_train.size(0)\n",
    "\n",
    "print(f\"File model eval: Real loss: {real_loss:.5f} Real {PERFORMANCE_MEASURE}: {real_performance*100:.2f}%\")\n",
    "\n",
    "confmat_real= ConfusionMatrix(task='binary')\n",
    "\n",
    "# test_data.targets are the values we want to predict in the test dataloader\n",
    "confmat_real_tensor= confmat(\n",
    "  preds= real_pred.cpu(),\n",
    "  target= targets_tensor_train.cpu())\n",
    "\n",
    "print(f\"Confusion matrix:\\n{confmat_real_tensor}\")"
   ]
  },
  {
   "cell_type": "code",
   "execution_count": null,
   "id": "5afa50f8-6e03-45fd-8f74-6f47da208d13",
   "metadata": {},
   "outputs": [],
   "source": [
    "try:\n",
    "  import torchinfo\n",
    "except:\n",
    "  !pip install torchinfo\n",
    "  import torchinfo\n",
    "\n",
    "from torchinfo import summary  \n"
   ]
  },
  {
   "cell_type": "code",
   "execution_count": null,
   "id": "c5025345-72b4-4170-90c8-307279d139ce",
   "metadata": {},
   "outputs": [],
   "source": [
    "summary(model_0, input_size=[len(signal_avg)])"
   ]
  }
 ],
 "metadata": {
  "kernelspec": {
   "display_name": "Python 3 (ipykernel)",
   "language": "python",
   "name": "python3"
  },
  "language_info": {
   "codemirror_mode": {
    "name": "ipython",
    "version": 3
   },
   "file_extension": ".py",
   "mimetype": "text/x-python",
   "name": "python",
   "nbconvert_exporter": "python",
   "pygments_lexer": "ipython3",
   "version": "3.12.3"
  }
 },
 "nbformat": 4,
 "nbformat_minor": 5
}
